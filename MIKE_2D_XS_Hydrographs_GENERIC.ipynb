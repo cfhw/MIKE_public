{
 "cells": [
  {
   "cell_type": "markdown",
   "id": "33fabbfc",
   "metadata": {},
   "source": [
    "# Combine several dfs0 files into a single Excel File with a chart"
   ]
  },
  {
   "cell_type": "markdown",
   "id": "9840c056",
   "metadata": {},
   "source": [
    "#### Import libraries"
   ]
  },
  {
   "cell_type": "code",
   "execution_count": null,
   "id": "cc6453ba",
   "metadata": {},
   "outputs": [],
   "source": [
    "#Import libraries\n",
    "import mikeio\n",
    "import mikeio1d\n",
    "import pandas as pd\n",
    "import numpy as np\n",
    "import matplotlib.pyplot as plt\n",
    "import xlsxwriter\n",
    "import os"
   ]
  },
  {
   "cell_type": "markdown",
   "id": "e191abe4-5470-464a-97f9-1c1a729eadfa",
   "metadata": {},
   "source": [
    "#### Define directories and file names"
   ]
  },
  {
   "cell_type": "code",
   "execution_count": null,
   "id": "ed73547e",
   "metadata": {},
   "outputs": [],
   "source": [
    "#Associate MIKE Results files with Script variables. This has been set up to process 11 XS.\n",
    "\n",
    "# Define results directory\n",
    "SD_directory = r\"C:\\SD_01\"\n",
    "RD_directory = r\"C:\\RD_NDB_01\"\n",
    "#Excel files directory\n",
    "SD_Excel = SD_directory\n",
    "RD_Excel = RD_directory\n",
    "#Sunny Day Scenario file names\n",
    "Q_S1_file = r\"Q_S1.dfs0\" \n",
    "Q_S2_file = r\"Q_S2.dfs0\" \n",
    "Q_S3_file = r\"Q_S3.dfs0\" \n",
    "Q_S4_file = r\"Q_S4.dfs0\" \n",
    "Q_S5_file = r\"Q_S5.dfs0\" \n",
    "Q_S6_file = r\"Q_S6.dfs0\" \n",
    "Q_S7_file = r\"Q_S7.dfs0\" \n",
    "Q_S8_file = r\"Q_S8.dfs0\" \n",
    "Q_S9_file = r\"Q_S9.dfs0\" \n",
    "Q_S10_file = r\"Q_S10.dfs0\" \n",
    "Q_S11_file = r\"Q_S11.dfs0\" \n",
    "\n",
    "# Check if the input file exists\n",
    "if os.path.exists(SD_directory):\n",
    "    print(\"SD Directory exists.\")\n",
    "else:\n",
    "    print(\"The SD file or path does not exist.\")\n",
    "\n",
    "if os.path.exists(RD_directory):\n",
    "    print(\"RD Directory exists.\")\n",
    "else:\n",
    "    print(\"The RD file or path does not exist.\")\n",
    "\n",
    "# Concatenate to get file paths for Sunny and Rainy day Scenarios\n",
    "# Sunny Day\n",
    "Q_SD_S1 = rf\"{SD_directory}\\{Q_S1_file}\"\n",
    "Q_SD_S2 = rf\"{SD_directory}\\{Q_S2_file}\"\n",
    "Q_SD_S3 = rf\"{SD_directory}\\{Q_S3_file}\"\n",
    "Q_SD_S4 = rf\"{SD_directory}\\{Q_S4_file}\"\n",
    "Q_SD_S5 = rf\"{SD_directory}\\{Q_S5_file}\"\n",
    "Q_SD_S6 = rf\"{SD_directory}\\{Q_S6_file}\"\n",
    "Q_SD_S7 = rf\"{SD_directory}\\{Q_S7_file}\"\n",
    "Q_SD_S8 = rf\"{SD_directory}\\{Q_S8_file}\"\n",
    "Q_SD_S9 = rf\"{SD_directory}\\{Q_S9_file}\"\n",
    "Q_SD_S10 = rf\"{SD_directory}\\{Q_S10_file}\"\n",
    "Q_SD_S11 = rf\"{SD_directory}\\{Q_S11_file}\"\n",
    "# Rainy Day\n",
    "Q_RD_S1 = rf\"{RD_directory}\\{Q_S1_file}\"\n",
    "Q_RD_S2 = rf\"{RD_directory}\\{Q_S2_file}\"\n",
    "Q_RD_S3 = rf\"{RD_directory}\\{Q_S3_file}\"\n",
    "Q_RD_S4 = rf\"{RD_directory}\\{Q_S4_file}\"\n",
    "Q_RD_S5 = rf\"{RD_directory}\\{Q_S5_file}\"\n",
    "Q_RD_S6 = rf\"{RD_directory}\\{Q_S6_file}\"\n",
    "Q_RD_S7 = rf\"{RD_directory}\\{Q_S7_file}\"\n",
    "Q_RD_S8 = rf\"{RD_directory}\\{Q_S8_file}\"\n",
    "Q_RD_S9 = rf\"{RD_directory}\\{Q_S9_file}\"\n",
    "Q_RD_S10 = rf\"{RD_directory}\\{Q_S10_file}\"\n",
    "Q_RD_S11 = rf\"{RD_directory}\\{Q_S11_file}\"\n",
    "# List with filenames\n",
    "print(\"List of selected files\")\n",
    "Q_RD_List = [Q_RD_S1,Q_RD_S2,Q_RD_S3,Q_RD_S4,Q_RD_S5,Q_RD_S6,Q_RD_S7,Q_RD_S8,Q_RD_S9,Q_RD_S10,Q_RD_S11]\n",
    "Q_SD_List = [Q_SD_S1,Q_SD_S2,Q_SD_S3,Q_SD_S4,Q_SD_S5,Q_SD_S6,Q_SD_S7,Q_SD_S8,Q_SD_S9,Q_SD_S10,Q_SD_S11]\n",
    "Q_RD_List,Q_SD_List"
   ]
  },
  {
   "cell_type": "markdown",
   "id": "3a2d27e0",
   "metadata": {},
   "source": [
    "#### Create Dataframes for Hydrographs plot"
   ]
  },
  {
   "cell_type": "code",
   "execution_count": null,
   "id": "fe79e31b",
   "metadata": {},
   "outputs": [],
   "source": [
    "## Dataframe creation\n",
    "Q_SD = pd.DataFrame()\n",
    "## Create Columns, each column for one hydrograph XS\n",
    "Q_SD['S1'] = m2d.read(Q_SD_S1)['Discharge, Flow'].to_dataframe()\n",
    "Q_SD['S2'] = m2d.read(Q_SD_S2)['Discharge, Flow'].to_dataframe()\n",
    "Q_SD['S3'] = m2d.read(Q_SD_S3)['Discharge, Flow'].to_dataframe()\n",
    "Q_SD['S4'] = m2d.read(Q_SD_S4)['Discharge, Flow'].to_dataframe()\n",
    "Q_SD['S5'] = m2d.read(Q_SD_S5)['Discharge, Flow'].to_dataframe()\n",
    "Q_SD['S6'] = m2d.read(Q_SD_S6)['Discharge, Flow'].to_dataframe()\n",
    "Q_SD['S7'] = m2d.read(Q_SD_S7)['Discharge, Flow'].to_dataframe()\n",
    "Q_SD['S8'] = m2d.read(Q_SD_S8)['Discharge, Flow'].to_dataframe()\n",
    "Q_SD['S9'] = m2d.read(Q_SD_S9)['Discharge, Flow'].to_dataframe()\n",
    "Q_SD['S10'] = m2d.read(Q_SD_S10)['Discharge, Flow'].to_dataframe()\n",
    "Q_SD['S11'] = m2d.read(Q_SD_S11)['Discharge, Flow'].to_dataframe()\n",
    "\n",
    "## Dataframe creation\n",
    "Q_RD = pd.DataFrame()\n",
    "## Create Columns, each column for one hydrograph XS\n",
    "Q_RD['S1'] = m2d.read(Q_RD_S1)['Discharge, Flow'].to_dataframe()\n",
    "Q_RD['S2'] = m2d.read(Q_RD_S2)['Discharge, Flow'].to_dataframe()\n",
    "Q_RD['S3'] = m2d.read(Q_RD_S3)['Discharge, Flow'].to_dataframe()\n",
    "Q_RD['S4'] = m2d.read(Q_RD_S4)['Discharge, Flow'].to_dataframe()\n",
    "Q_RD['S5'] = m2d.read(Q_RD_S5)['Discharge, Flow'].to_dataframe()\n",
    "Q_RD['S6'] = m2d.read(Q_RD_S6)['Discharge, Flow'].to_dataframe()\n",
    "Q_RD['S7'] = m2d.read(Q_RD_S7)['Discharge, Flow'].to_dataframe()\n",
    "Q_RD['S8'] = m2d.read(Q_RD_S8)['Discharge, Flow'].to_dataframe()\n",
    "Q_RD['S9'] = m2d.read(Q_RD_S9)['Discharge, Flow'].to_dataframe()\n",
    "Q_RD['S10'] = m2d.read(Q_RD_S10)['Discharge, Flow'].to_dataframe()\n",
    "Q_RD['S11'] = m2d.read(Q_RD_S11)['Discharge, Flow'].to_dataframe()"
   ]
  },
  {
   "cell_type": "code",
   "execution_count": null,
   "id": "c0fa69f3",
   "metadata": {},
   "outputs": [],
   "source": [
    "Q_SD.dtypes"
   ]
  },
  {
   "cell_type": "code",
   "execution_count": null,
   "id": "3453e25d-1784-4d3a-9ac1-a3e43f0a5711",
   "metadata": {},
   "outputs": [],
   "source": [
    "Q_SD.head()"
   ]
  },
  {
   "cell_type": "code",
   "execution_count": null,
   "id": "8d89c9e6-1e28-4aa9-aaae-27ddb5c453ef",
   "metadata": {},
   "outputs": [],
   "source": [
    "Q_RD.head()"
   ]
  },
  {
   "cell_type": "code",
   "execution_count": null,
   "id": "f8b935e7",
   "metadata": {},
   "outputs": [],
   "source": [
    "## Drop code in case we need to delete some columns. Remove first ##.\n",
    "##Q_SD.drop(columns = 'Discharge, Flow',inplace = True)"
   ]
  },
  {
   "cell_type": "markdown",
   "id": "67d033c5",
   "metadata": {
    "jp-MarkdownHeadingCollapsed": true
   },
   "source": [
    "#### Example Plots using MIKEIO library"
   ]
  },
  {
   "cell_type": "code",
   "execution_count": null,
   "id": "92c3e068-4c41-44b3-ab80-af1ee9df9fe5",
   "metadata": {},
   "outputs": [],
   "source": [
    "Q_SD.plot()\n",
    "Q_RD.plot()"
   ]
  },
  {
   "cell_type": "markdown",
   "id": "e8d17706-c755-46e2-916d-dfc7069ff871",
   "metadata": {
    "jp-MarkdownHeadingCollapsed": true
   },
   "source": [
    "##### ADJUST AXIS"
   ]
  },
  {
   "cell_type": "code",
   "execution_count": null,
   "id": "89e1be55-a2eb-4ffa-ad89-4c83f033a17a",
   "metadata": {},
   "outputs": [],
   "source": [
    "# Define X-axis Time series range\n",
    "SD_start_time = pd.to_datetime(\"202401010000\")\n",
    "SD_end_time = pd.to_datetime(\"202401010800\")\n",
    "# Define Y-axis range\n",
    "SD_y_lim1 = 100\n",
    "SD_y_lim2 = 220\n",
    "# Define Titles\n",
    "SD_title = \"Hydrographs\"\n",
    "SD_x_axis = \"Date\"\n",
    "SD_y_axis = \"Discharge cumecs\"\n",
    "# Define what series to plot in Chart 1\n",
    "SD_visible = [\"S1\",\"S2\",\"S3\",\"S8\"]\n",
    "Q_SD[SD_visible].plot(xlim=[SD_start_time,SD_end_time],ylim=[SD_y_lim1,SD_y_lim2],title=SD_title_1,xlabel=SD_x_axis,ylabel=SD_y_axis)\n",
    "Q_SD.plot(xlim=[SD_start_time,SD_end_time],ylim=[SD_y_lim1,SD_y_lim2],title=SD_title,xlabel=SD_x_axis,ylabel=SD_y_axis)"
   ]
  },
  {
   "cell_type": "code",
   "execution_count": null,
   "id": "eb13f719-d72e-4c57-b3c7-addd32829aa9",
   "metadata": {},
   "outputs": [],
   "source": [
    "# Define X-axis Time series range\n",
    "RD_start_time = pd.to_datetime(\"202401010000\")\n",
    "RD_end_time = pd.to_datetime(\"202401042300\")\n",
    "# Define Y-axis range\n",
    "RD_y_lim1 = 0\n",
    "RD_y_lim2 = 400\n",
    "# Define Titles\n",
    "RD_title = \"Hydrographs\"\n",
    "RD_x_axis = \"Date\"\n",
    "RD_y_axis = \"Discharge cumecs\"\n",
    "# Define what series to plot in Chart 1\n",
    "RD_visible = [\"S1\",\"S2\",\"S3\",\"S8\"]\n",
    "Q_RD[RD_visible].plot(xlim=[RD_start_time,RD_end_time],ylim=[RD_y_lim1,RD_y_lim2],title=RD_title,xlabel=RD_x_axis,ylabel=RD_y_axis)\n",
    "Q_RD.plot(xlim=[RD_start_time,RD_end_time],ylim=[RD_y_lim1,RD_y_lim2],title=RD_title,xlabel=RD_x_axis,ylabel=RD_y_axis)\n"
   ]
  },
  {
   "cell_type": "code",
   "execution_count": null,
   "id": "2b3e6f8c",
   "metadata": {},
   "outputs": [],
   "source": [
    "list(Q_SD.columns.values)"
   ]
  },
  {
   "cell_type": "code",
   "execution_count": null,
   "id": "b2a87652",
   "metadata": {},
   "outputs": [],
   "source": [
    "Q_SD.index.size"
   ]
  },
  {
   "cell_type": "markdown",
   "id": "8d6770af-02a3-4d6b-99d3-f2227df46d42",
   "metadata": {},
   "source": [
    "#### Insert timestep in hours into a new column"
   ]
  },
  {
   "cell_type": "code",
   "execution_count": null,
   "id": "796eaf70",
   "metadata": {},
   "outputs": [],
   "source": [
    "## This code creates a column with the timestep in hours to plot the hydrographs using 'Time (hours)' in x-axis.\n",
    "\n",
    "# Insert a new column with float format\n",
    "Q_SD[\"Time (hour)\"] = 0.0 \n",
    "#Convert Date into Time (hours)\n",
    "dt=Q_SD.index[2]-Q_SD.index[1]\n",
    "dt_float = dt.total_seconds()\n",
    "# Incremental values using the timestep from the MIKE files\n",
    "Q_SD[\"Time (hour)\"] = [(i * dt_float) / 3600 for i in range(len(Q_SD.index))]\n",
    "\n",
    "# Optional rounding\n",
    "Q_SD[\"Time (hour)\"] = Q_SD[\"Time (hour)\"].round(2)"
   ]
  },
  {
   "cell_type": "code",
   "execution_count": null,
   "id": "39007eb9-f90a-423b-8733-53fd693d176e",
   "metadata": {},
   "outputs": [],
   "source": [
    "# Same for the Rainy Day\n",
    "\n",
    "# Insert a new column with float format\n",
    "Q_RD[\"Time (hour)\"] = 0.0 \n",
    "#Convert Date into Time (hours)\n",
    "dt=Q_RD.index[2]-Q_RD.index[1]\n",
    "dt_float = dt.total_seconds()\n",
    "# Incremental values using the timestep from the MIKE files\n",
    "Q_RD[\"Time (hour)\"] = [(i * dt_float) / 3600 for i in range(len(Q_RD.index))]\n",
    "\n",
    "# Optional rounding\n",
    "Q_RD[\"Time (hour)\"] = Q_RD[\"Time (hour)\"].round(2)"
   ]
  },
  {
   "cell_type": "code",
   "execution_count": null,
   "id": "d3cec31e",
   "metadata": {},
   "outputs": [],
   "source": [
    "## In case we need: To remove columns from the dataframe Q_SD.drop(\"Index\",axis = 1, inplace = True)\n",
    "## Note that the inplace = True edits the dataframe object as required."
   ]
  },
  {
   "cell_type": "markdown",
   "id": "0832d264-501b-4ca8-913b-efe92fabcd1c",
   "metadata": {},
   "source": [
    "#### Check Dataframes before exporting. The timestep in hours must be visible and no other columns"
   ]
  },
  {
   "cell_type": "code",
   "execution_count": null,
   "id": "796b96a7",
   "metadata": {},
   "outputs": [],
   "source": [
    "Q_SD.head(5)"
   ]
  },
  {
   "cell_type": "code",
   "execution_count": null,
   "id": "aa042d39-c001-4bfd-b1ab-e54a0e78dfdf",
   "metadata": {},
   "outputs": [],
   "source": [
    "Q_RD.head(5)"
   ]
  },
  {
   "cell_type": "markdown",
   "id": "c0fa1b17-4ac7-46f9-bca0-2831a39dc158",
   "metadata": {},
   "source": [
    "#### EXPORT SUNNY DAY SCENARIO TO EXCEL"
   ]
  },
  {
   "cell_type": "code",
   "execution_count": null,
   "id": "1e04f493",
   "metadata": {},
   "outputs": [],
   "source": [
    "# Define names. Default directories are used from header section of the notebook\n",
    "\n",
    "output_workbook_name_SD = \"2D_Hydrographs_SD.xlsx\"\n",
    "SD_filename = rf\"{SD_directory}\\{output_workbook_name_SD}\"\n",
    "SD_sheetname = \"SD_2D\"\n",
    "\n",
    "# Excel file creation. Inserts sheet and chart\n",
    "max_row = len(Q_SD)\n",
    "max_column = len(Q_SD.columns)\n",
    "writer = pd.ExcelWriter(SD_filename, engine='xlsxwriter') # Creates the Excel object\n",
    "Q_SD.to_excel(writer,sheet_name=SD_sheetname) # Inserts the whole dataframe into the Excel object\n",
    "workbook = writer.book # Activates the workbook from the Excel object\n",
    "worksheet = writer.sheets[SD_sheetname] # Activates the specified sheet from the Excel object\n",
    "chart = workbook.add_chart({'type': 'scatter'}) # Creates a chart into the active workbook from the Excel object\n",
    "# Create the chart series. Note that the range(column - 1) excludes the last column from the chart (time step)\n",
    "for i in range(max_column-1):\n",
    "    col = i + 1\n",
    "    chart.add_series({\n",
    "        'name':       [SD_sheetname, 0, col],\n",
    "        'categories': [SD_sheetname, 1, max_column,max_row, max_column],\n",
    "        'values':     [SD_sheetname, 1, col, max_row, col],\n",
    "        'line' :      {'width' : 1},\n",
    "        'marker':     {'type': 'none'}#, 'size': 7},\n",
    "    })\n",
    "\n",
    "# Some simple formatting for the chart, may be modified as required.\n",
    "chart.set_x_axis({\n",
    "    'name': 'Time (hour)',\n",
    "    'major_gridlines': {'visible': True, 'line': {'width': 0.5}},  \n",
    "    'minor_gridlines': {'visible': True, 'line': {'width': 0.1}},  \n",
    "})\n",
    "\n",
    "chart.set_y_axis({\n",
    "    'name': 'Discharge cumecs',\n",
    "    'major_gridlines': {'visible': True, 'line': {'width': 0.5}},  \n",
    "    'minor_gridlines': {'visible': True, 'line': {'width': 0.1}},  \n",
    "})\n",
    "\n",
    "\n",
    "# Insert the chart into the active worksheet. Note that I'm using P2 cell to start the chart. This can be modified.\n",
    "worksheet.insert_chart('P2', chart, {'x_scale': 2, 'y_scale': 2})\n",
    "\n",
    "# Close the Pandas Excel writer and output the Excel file.\n",
    "writer.close()\n",
    "\n",
    "# Optional, open the Excel file\n",
    "os.system(f'start EXCEL.EXE \"{SD_filename}\"')"
   ]
  }
 ],
 "metadata": {
  "celltoolbar": "Raw Cell Format",
  "kernelspec": {
   "display_name": "Python 3 (ipykernel)",
   "language": "python",
   "name": "python3"
  },
  "language_info": {
   "codemirror_mode": {
    "name": "ipython",
    "version": 3
   },
   "file_extension": ".py",
   "mimetype": "text/x-python",
   "name": "python",
   "nbconvert_exporter": "python",
   "pygments_lexer": "ipython3",
   "version": "3.11.7"
  }
 },
 "nbformat": 4,
 "nbformat_minor": 5
}
